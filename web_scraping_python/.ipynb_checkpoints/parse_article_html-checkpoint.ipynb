{
 "cells": [
  {
   "cell_type": "code",
   "execution_count": 5,
   "metadata": {
    "collapsed": false
   },
   "outputs": [
    {
     "ename": "TypeError",
     "evalue": "'NoneType' object has no attribute '__getitem__'",
     "output_type": "error",
     "traceback": [
      "\u001b[0;31m---------------------------------------------------------------------------\u001b[0m",
      "\u001b[0;31mTypeError\u001b[0m                                 Traceback (most recent call last)",
      "\u001b[0;32m<ipython-input-5-ec56180831e0>\u001b[0m in \u001b[0;36m<module>\u001b[0;34m()\u001b[0m\n\u001b[1;32m     82\u001b[0m \u001b[0;34m\u001b[0m\u001b[0m\n\u001b[1;32m     83\u001b[0m \u001b[0;34m\u001b[0m\u001b[0m\n\u001b[0;32m---> 84\u001b[0;31m \u001b[0mparseArticleHtml\u001b[0m\u001b[0;34m(\u001b[0m\u001b[0;34m)\u001b[0m\u001b[0;34m\u001b[0m\u001b[0m\n\u001b[0m\u001b[1;32m     85\u001b[0m \u001b[0;34m\u001b[0m\u001b[0m\n\u001b[1;32m     86\u001b[0m \u001b[0;31m#article = Article()\u001b[0m\u001b[0;34m\u001b[0m\u001b[0;34m\u001b[0m\u001b[0m\n",
      "\u001b[0;32m<ipython-input-5-ec56180831e0>\u001b[0m in \u001b[0;36mparseArticleHtml\u001b[0;34m()\u001b[0m\n\u001b[1;32m     25\u001b[0m         \u001b[0;31m#print article\u001b[0m\u001b[0;34m\u001b[0m\u001b[0;34m\u001b[0m\u001b[0m\n\u001b[1;32m     26\u001b[0m \u001b[0;34m\u001b[0m\u001b[0m\n\u001b[0;32m---> 27\u001b[0;31m         \u001b[0mfileName\u001b[0m \u001b[0;34m=\u001b[0m \u001b[0marticle\u001b[0m\u001b[0;34m.\u001b[0m\u001b[0mlink\u001b[0m\u001b[0;34m[\u001b[0m\u001b[0;36m20\u001b[0m\u001b[0;34m:\u001b[0m\u001b[0;34m]\u001b[0m\u001b[0;34m.\u001b[0m\u001b[0mreplace\u001b[0m\u001b[0;34m(\u001b[0m\u001b[0;34m'/'\u001b[0m\u001b[0;34m,\u001b[0m \u001b[0;34m'-'\u001b[0m\u001b[0;34m,\u001b[0m\u001b[0;36m3\u001b[0m\u001b[0;34m)\u001b[0m\u001b[0;34m.\u001b[0m\u001b[0mreplace\u001b[0m\u001b[0;34m(\u001b[0m\u001b[0;34m'/'\u001b[0m\u001b[0;34m,\u001b[0m \u001b[0;34m''\u001b[0m\u001b[0;34m)\u001b[0m \u001b[0;34m+\u001b[0m \u001b[0;34m'.html'\u001b[0m\u001b[0;34m\u001b[0m\u001b[0m\n\u001b[0m\u001b[1;32m     28\u001b[0m         \u001b[0mfilePath\u001b[0m \u001b[0;34m=\u001b[0m \u001b[0marticleHtmlDir\u001b[0m \u001b[0;34m+\u001b[0m \u001b[0mfileName\u001b[0m\u001b[0;34m\u001b[0m\u001b[0m\n\u001b[1;32m     29\u001b[0m \u001b[0;34m\u001b[0m\u001b[0m\n",
      "\u001b[0;31mTypeError\u001b[0m: 'NoneType' object has no attribute '__getitem__'"
     ]
    }
   ],
   "source": [
    "from IPython.display import HTML\n",
    "from bs4 import BeautifulSoup\n",
    "import requests\n",
    "import json\n",
    "from datetime import datetime, timedelta\n",
    "import time\n",
    "import os\n",
    "from articles import Article\n",
    "import jsonhelper\n",
    "\n",
    "articleHtmlDir = 'article_html/'\n",
    "\n",
    "def parseArticleHtml():\n",
    "    \n",
    "    articleList = None\n",
    "    with open('marshable_article_list.json') as data_file:    \n",
    "        articleList = json.load(data_file)\n",
    "\n",
    "    for i in xrange(len(articleList)):    \n",
    "        article = Article()\n",
    "        \n",
    "        article = jsonhelper.simple_dict_to_object(articleList[i], article)\n",
    "                        \n",
    "        fileName = article.link[20:].replace('/', '-',3).replace('/', '') + '.html'\n",
    "        filePath = articleHtmlDir + fileName\n",
    "        \n",
    "        filePath = articleHtmlDir + '2016-02-18-amazon-studios-picks-up-untitled-woody-allen-movie'\n",
    "        \n",
    "        # parse html if file exists\n",
    "        if(os.path.isfile(filePath)):\n",
    "            articleFile = open(filePath)\n",
    "\n",
    "            try: \n",
    "            \n",
    "                bs = BeautifulSoup(articleFile, 'html.parser')\n",
    "            \n",
    "\n",
    "                # get total share\n",
    "                #articleDict['shares'] = share = bs.find('div', {'class': 'total-shares'}).em.get_text()\n",
    "                #print share\n",
    "\n",
    "                # Get Number of Links\n",
    "                links = bs.find_all('a')\n",
    "                #article['total_links'] =  len(links)\n",
    "\n",
    "                # Get links to other articles\n",
    "                linksToArticles = bs.find_all('a')\n",
    "\n",
    "                # Get content tag\n",
    "                contentTag = bs.find('section', {'class': lambda value: value and value.startswith('article-content')})\n",
    "\n",
    "                print contentTag\n",
    "\n",
    "                #<section class=\"article-content viral-video\">\n",
    "\n",
    "                # Get number of images in the article\n",
    "\n",
    "\n",
    "                # Get number of videos in the article\n",
    "\n",
    "                #print bs.prettify()\n",
    "\n",
    "\n",
    "                #print bs.title.get_text()\n",
    "\n",
    "                #print bs.h2.get_text()\n",
    "\n",
    "                #print bs.em.get_text()\n",
    "\n",
    "\n",
    "                #<span class=\"byline basic\">By Yohana Desta</span>            \n",
    "            except Exception as ex: \n",
    "                print 'Error: ', ex.args\n",
    "            finally:\n",
    "                articleFile.close()\n",
    "                \n",
    "        break\n",
    "\n",
    "        \n",
    "parseArticleHtml()\n",
    "\n",
    "#article = Article()\n",
    "#article.__dict__\n",
    "\n"
   ]
  },
  {
   "cell_type": "code",
   "execution_count": null,
   "metadata": {
    "collapsed": true
   },
   "outputs": [],
   "source": []
  }
 ],
 "metadata": {
  "kernelspec": {
   "display_name": "Python 2",
   "language": "python",
   "name": "python2"
  },
  "language_info": {
   "codemirror_mode": {
    "name": "ipython",
    "version": 2
   },
   "file_extension": ".py",
   "mimetype": "text/x-python",
   "name": "python",
   "nbconvert_exporter": "python",
   "pygments_lexer": "ipython2",
   "version": "2.7.11"
  }
 },
 "nbformat": 4,
 "nbformat_minor": 0
}
