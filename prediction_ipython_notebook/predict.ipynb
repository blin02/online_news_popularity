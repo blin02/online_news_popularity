{
 "cells": [
  {
   "cell_type": "code",
   "execution_count": 197,
   "metadata": {
    "collapsed": false
   },
   "outputs": [],
   "source": [
    "import pandas as pd\n",
    "import pprint as pp\n",
    "import numpy as np"
   ]
  },
  {
   "cell_type": "code",
   "execution_count": 202,
   "metadata": {
    "collapsed": false
   },
   "outputs": [
    {
     "data": {
      "text/plain": [
       "Index([u'id', u'author', u'channel', u'content', u'content_sentiment_polarity',\n",
       "       u'content_subjectivity', u'link', u'n_tokens_content',\n",
       "       u'n_tokens_title', u'num_hrefs', u'num_imgs', u'num_keywords',\n",
       "       u'num_self_hrefs', u'num_videos', u'post_date', u'shares', u'timedelta',\n",
       "       u'title', u'title_sentiment_polarity', u'title_subjectivity', u'topics',\n",
       "       u'type'],\n",
       "      dtype='object')"
      ]
     },
     "execution_count": 202,
     "metadata": {},
     "output_type": "execute_result"
    }
   ],
   "source": [
    "train_df_raw = pd.read_csv('./data/articles_training.csv', encoding = 'utf-8')\n",
    "train_df_raw.columns"
   ]
  },
  {
   "cell_type": "code",
   "execution_count": 201,
   "metadata": {
    "collapsed": false
   },
   "outputs": [
    {
     "data": {
      "text/plain": [
       "(1555, 22)"
      ]
     },
     "execution_count": 201,
     "metadata": {},
     "output_type": "execute_result"
    }
   ],
   "source": [
    "train_df_raw.shape"
   ]
  },
  {
   "cell_type": "code",
   "execution_count": 203,
   "metadata": {
    "collapsed": false
   },
   "outputs": [
    {
     "data": {
      "text/plain": [
       "[2, 3, 4, 5, 6, 7, 8, 9, 10, 11, 12, 13, 14, 15, 16, 17, 18, 19]"
      ]
     },
     "execution_count": 203,
     "metadata": {},
     "output_type": "execute_result"
    }
   ],
   "source": [
    "range(2,20)"
   ]
  },
  {
   "cell_type": "code",
   "execution_count": 100,
   "metadata": {
    "collapsed": false
   },
   "outputs": [],
   "source": [
    "def dummify(df, cate_variables):\n",
    "    '''\n",
    "    @Summary: convert the categorical variables to numeric variables by using dummies (binary).\n",
    "    Old categorical variables will be dropped.\n",
    "    @return: A copy of the old dataframe with new converted numeric variables. \n",
    "    '''\n",
    "    # make a copy before creating dummies\n",
    "    df_new = df.copy()\n",
    "    \n",
    "    # convert text-based columns to dummies (except v22)\n",
    "    for var_name in cate_variables:\n",
    "        dummies = pd.get_dummies(df[var_name], prefix=var_name)\n",
    "        \n",
    "        # Drop the current variable, concat/append the dummy dataframe to the dataframe.\n",
    "        df_new = pd.concat([df_new.drop(var_name, 1), dummies.iloc[:,1:]], axis = 1)\n",
    "    \n",
    "    return df_new"
   ]
  },
  {
   "cell_type": "code",
   "execution_count": 126,
   "metadata": {
    "collapsed": false
   },
   "outputs": [
    {
     "name": "stdout",
     "output_type": "stream",
     "text": [
      "Index([u'id', u'author', u'channel', u'content', u'content_sentiment_polarity',\n",
      "       u'content_subjectivity', u'link', u'n_tokens_content',\n",
      "       u'n_tokens_title', u'num_hrefs', u'num_imgs', u'num_keywords',\n",
      "       u'num_self_hrefs', u'num_videos', u'post_date', u'shares', u'timedelta',\n",
      "       u'title', u'title_sentiment_polarity', u'title_subjectivity', u'topics',\n",
      "       u'type'],\n",
      "      dtype='object')\n",
      "Index([u'id', u'author', u'channel', u'content', u'content_sentiment_polarity',\n",
      "       u'content_subjectivity', u'link', u'n_tokens_content',\n",
      "       u'n_tokens_title', u'num_hrefs', u'num_imgs', u'num_keywords',\n",
      "       u'num_self_hrefs', u'num_videos', u'post_date', u'shares', u'timedelta',\n",
      "       u'title', u'title_sentiment_polarity', u'title_subjectivity', u'topics',\n",
      "       u'type'],\n",
      "      dtype='object')\n"
     ]
    }
   ],
   "source": [
    "def data_transform(df):\n",
    "    df_new = df.drop(['id', 'post_date', 'type', 'content', 'title', 'link', 'topics', 'author', 'shares'], axis = 1)\n",
    "    cate_variables = ['channel']\n",
    "    x_train = dummify(df_new, cate_variables)\n",
    "    y_train = (df['shares'] > 1400) + 0\n",
    "\n",
    "    return (x_train, y_train)\n",
    "\n",
    "test_df_raw = pd.read_csv('./data/articles_test.csv')\n",
    "\n",
    "x_train, y_train = data_transform(train_df_raw)\n",
    "\n",
    "x_test, y_test = data_transform(test_df_raw)\n",
    "\n",
    "print train_df_raw.columns\n",
    "print test_df_raw.columns\n",
    "#pp.pprint(y_train)\n",
    "\n",
    "#pp.pprint(x_train.head())\n",
    "#pp.pprint(y_train.head())"
   ]
  },
  {
   "cell_type": "code",
   "execution_count": 128,
   "metadata": {
    "collapsed": false
   },
   "outputs": [
    {
     "name": "stdout",
     "output_type": "stream",
     "text": [
      "{'warm_start': False, 'oob_score': False, 'n_jobs': 1, 'verbose': 0, 'max_leaf_nodes': None, 'bootstrap': True, 'min_samples_leaf': 1, 'n_estimators': 10, 'min_samples_split': 2, 'min_weight_fraction_leaf': 0.0, 'criterion': 'gini', 'random_state': None, 'max_features': 'auto', 'max_depth': None, 'class_weight': None}\n",
      "The training error is: 0.02508\n",
      "The test     error is: 0.38000\n"
     ]
    },
    {
     "data": {
      "text/plain": [
       "[0.025080385852090048, 0.38]"
      ]
     },
     "execution_count": 128,
     "metadata": {},
     "output_type": "execute_result"
    }
   ],
   "source": [
    "from sklearn import ensemble\n",
    "\n",
    "def fit_and_score(x_train, y_train, x_test, y_test, model, show = True):\n",
    "    model.fit(x_train, y_train)\n",
    "    train_error = 1 - model.score(x_train, y_train)\n",
    "    test_error = 1 - model.score(x_test, y_test)\n",
    "    if show:\n",
    "        print \"The training error is: %.5f\" %train_error \n",
    "        print \"The test     error is: %.5f\" %test_error\n",
    "    return [train_error, test_error]\n",
    "\n",
    "randomForest = ensemble.RandomForestClassifier()\n",
    "#randomForest.set_params(max_depth = 10)\n",
    "print randomForest.get_params()\n",
    "\n",
    "fit_and_score(x_train, y_train, x_test, y_test, randomForest)"
   ]
  },
  {
   "cell_type": "code",
   "execution_count": 192,
   "metadata": {
    "collapsed": false,
    "scrolled": true
   },
   "outputs": [
    {
     "data": {
      "text/plain": [
       "<matplotlib.text.Text object at 0x129568310>"
      ]
     },
     "execution_count": 192,
     "metadata": {},
     "output_type": "execute_result"
    },
    {
     "data": {
      "image/png": "[encoded data removed]",
      "text/plain": [
       "<matplotlib.figure.Figure object at 0x124aa8d90>"
      ]
     },
     "metadata": {},
     "output_type": "display_data"
    }
   ],
   "source": [
    "def get_feature_importance(df, model):    \n",
    "    feature_imprtance = zip(df.columns[1:], model.feature_importances_)\n",
    "    dtype = [('feature', 'S10'), ('importance', 'float')]\n",
    "    feature_imprtance = np.array(feature_imprtance, dtype = dtype)\n",
    "    feature_sort = np.sort(feature_imprtance, order='importance')[::-1]\n",
    "    return feature_sort\n",
    " \n",
    "feature_importance = get_feature_importance(x_train, randomForest)    \n",
    "#pp.pprint(feature_importance)\n",
    "\n",
    "x_plot = [feature for feature, importance in feature_importance]\n",
    "y_plot = [importance for feature, importance in feature_importance]\n",
    "\n",
    "import matplotlib.pyplot as plt\n",
    "%matplotlib inline\n",
    "\n",
    "feat_imp = pd.Series(y_plot, x_plot).sort_values(ascending=False)\n",
    "feat_imp.plot(kind='bar', title='Feature Importances', figsize=(12,6))\n",
    "plt.ylabel('Feature Importance Score')"
   ]
  },
  {
   "cell_type": "code",
   "execution_count": 195,
   "metadata": {
    "collapsed": false
   },
   "outputs": [
    {
     "name": "stdout",
     "output_type": "stream",
     "text": [
      "The best score is 0.7113\n",
      "The best parameters are {'n_estimators': 60, 'criterion': 'entropy', 'max_depth': 16}\n",
      "The training error is 0.0154\n",
      "The testing error is 0.3150\n"
     ]
    },
    {
     "name": "stderr",
     "output_type": "stream",
     "text": [
      "/Users/binlin/anaconda/lib/python2.7/site-packages/sklearn/grid_search.py:418: ChangedBehaviorWarning: The long-standing behavior to use the estimator's score function in GridSearchCV.score has changed. The scoring parameter is now used.\n",
      "  ChangedBehaviorWarning)\n"
     ]
    }
   ],
   "source": [
    "import sklearn.grid_search as gs \n",
    "\n",
    "grid_para_forest = {'criterion': ['gini', 'entropy'], 'max_depth': range(2, 20), \"n_estimators\": range(10, 100, 10)}\n",
    "grid_search_forest = gs.GridSearchCV(randomForest, grid_para_forest, cv=5, scoring='accuracy').fit(x_train, y_train)\n",
    "\n",
    "print 'The best score is %.4f' %grid_search_forest.best_score_\n",
    "print 'The best parameters are %s' %grid_search_forest.best_params_\n",
    "print 'The training error is %.4f' %(1 - grid_search_forest.score(x_train, y_train))\n",
    "print 'The testing error is %.4f' %(1 - grid_search_forest.score(x_test, y_test))"
   ]
  },
  {
   "cell_type": "code",
   "execution_count": 196,
   "metadata": {
    "collapsed": false
   },
   "outputs": [
    {
     "data": {
      "text/plain": [
       "<matplotlib.text.Text object at 0x12a3edcd0>"
      ]
     },
     "execution_count": 196,
     "metadata": {},
     "output_type": "execute_result"
    },
    {
     "data": {
      "image/png": "[encoded data removed]",
      "text/plain": [
       "<matplotlib.figure.Figure object at 0x125c1afd0>"
      ]
     },
     "metadata": {},
     "output_type": "display_data"
    }
   ],
   "source": [
    "forest_final = grid_search_forest.best_estimator_\n",
    "\n",
    "feature_importance = get_feature_importance(x_train, forest_final)    \n",
    "\n",
    "x_plot = [feature for feature, importance in feature_importance]\n",
    "y_plot = [importance for feature, importance in feature_importance]\n",
    "\n",
    "import matplotlib.pyplot as plt\n",
    "%matplotlib inline\n",
    "\n",
    "fig = plt.figure()\n",
    "fig.subplots_adjust(bottom=0.2)\n",
    "ax = fig.add_subplot(111)\n",
    "\n",
    "feat_imp = pd.Series(y_plot, x_plot).sort_values(ascending=False)\n",
    "feat_imp.plot(kind='bar', title='Feature Importances', figsize=(12,6))\n",
    "plt.ylabel('Feature Importance Score')"
   ]
  },
  {
   "cell_type": "code",
   "execution_count": null,
   "metadata": {
    "collapsed": true
   },
   "outputs": [],
   "source": []
  }
 ],
 "metadata": {
  "kernelspec": {
   "display_name": "Python 2",
   "language": "python",
   "name": "python2"
  },
  "language_info": {
   "codemirror_mode": {
    "name": "ipython",
    "version": 2
   },
   "file_extension": ".py",
   "mimetype": "text/x-python",
   "name": "python",
   "nbconvert_exporter": "python",
   "pygments_lexer": "ipython2",
   "version": "2.7.11"
  }
 },
 "nbformat": 4,
 "nbformat_minor": 0
}
